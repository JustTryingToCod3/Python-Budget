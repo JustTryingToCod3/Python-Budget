{
  "nbformat": 4,
  "nbformat_minor": 0,
  "metadata": {
    "colab": {
      "provenance": []
    },
    "kernelspec": {
      "name": "python3",
      "display_name": "Python 3"
    },
    "language_info": {
      "name": "python"
    }
  },
  "cells": [
    {
      "cell_type": "code",
      "execution_count": null,
      "metadata": {
        "colab": {
          "base_uri": "https://localhost:8080/"
        },
        "id": "Lei6RgDvhY_R",
        "outputId": "0be54278-e1d6-4e21-c101-43352a5254d7"
      },
      "outputs": [
        {
          "output_type": "stream",
          "name": "stdout",
          "text": [
            "Hello, are you ready to begin?\n",
            "\n",
            "Your Monthly Amount is: $3000\n",
            "Your Rent is: $400\n",
            "Your Lights are: $80\n",
            "Your Car is: $450\n",
            "Your Phone is: $50\n",
            "Your Discretionary is: $200\n",
            "Your Needs Are: $500\n",
            "Your Laundry is: $20\n",
            "Hello Hannah Your leftover balance for the month is: $ 1300\n"
          ]
        }
      ],
      "source": [
        "class Budget:\n",
        "    def __init__ (self,name,amount,rent,lights,car,phone,discretionary,needs,laundry):\n",
        "        self.name = name\n",
        "        self.amount = amount\n",
        "        self.rent = rent\n",
        "        self.lights = lights\n",
        "        self.car = car\n",
        "        self.phone = phone\n",
        "        self.discretionary = discretionary\n",
        "        self.needs = needs\n",
        "        self.laundry = laundry\n",
        "    def monthly_budget(self):\n",
        "        return f'Hello {self.name}. Ready to Budget?'\n",
        "    def leftover(self):\n",
        "        if (self.amount - (self.rent+self.lights+self.car+self.phone+self.discretionary+self.needs+self.laundry)) >= 0:\n",
        "            print(\"Hello\", self.name, \"Your leftover balance for the month is: $\", self.amount - (self.rent+self.lights+self.car+self.phone+self.discretionary+self.needs+self.laundry))\n",
        "        elif (self.amount - (self.rent+self.lights+self.car+self.phone+self.discretionary+self.needs+self.laundry))<0:\n",
        "            print(\"So..um..\", self.name, 'You are screwed!!!')\n",
        "print('Hello, are you ready to begin?')\n",
        "print('')\n",
        "my_budget = Budget(\"Hannah\",int(input(\"Your Monthly Amount is: $\")),int(input(\"Your Rent is: $\")),int(input(\"Your Lights are: $\")),int(input(\"Your Car is: $\")),int(input(\"Your Phone is: $\")),int(input(\"Your Discretionary is: $\")),int(input(\"Your Needs Are: $\")),int(input(\"Your Laundry is: $\")))\n",
        "my_budget.leftover()"
      ]
    },
    {
      "cell_type": "code",
      "source": [
        "total = 0\n",
        "for num in [1, 2, 3, 4]:\n",
        "    total += num\n",
        "\n",
        "print(total)"
      ],
      "metadata": {
        "id": "vnd67H4iicgh",
        "outputId": "6934b8e5-6f80-407c-c9e0-81af5f264079",
        "colab": {
          "base_uri": "https://localhost:8080/"
        }
      },
      "execution_count": null,
      "outputs": [
        {
          "output_type": "stream",
          "name": "stdout",
          "text": [
            "10\n"
          ]
        }
      ]
    }
  ]
}